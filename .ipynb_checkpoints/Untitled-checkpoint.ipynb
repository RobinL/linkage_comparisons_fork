{
 "cells": [
  {
   "cell_type": "code",
   "execution_count": 6,
   "id": "e8e7a4f2",
   "metadata": {},
   "outputs": [
    {
     "data": {
      "text/html": [
       "\n",
       "<div id=\"altair-viz-36478fecdbde43b8ad11bbdd496bf504\"></div>\n",
       "<script type=\"text/javascript\">\n",
       "  var VEGA_DEBUG = (typeof VEGA_DEBUG == \"undefined\") ? {} : VEGA_DEBUG;\n",
       "  (function(spec, embedOpt){\n",
       "    let outputDiv = document.currentScript.previousElementSibling;\n",
       "    if (outputDiv.id !== \"altair-viz-36478fecdbde43b8ad11bbdd496bf504\") {\n",
       "      outputDiv = document.getElementById(\"altair-viz-36478fecdbde43b8ad11bbdd496bf504\");\n",
       "    }\n",
       "    const paths = {\n",
       "      \"vega\": \"https://cdn.jsdelivr.net/npm//vega@5?noext\",\n",
       "      \"vega-lib\": \"https://cdn.jsdelivr.net/npm//vega-lib?noext\",\n",
       "      \"vega-lite\": \"https://cdn.jsdelivr.net/npm//vega-lite@4.17.0?noext\",\n",
       "      \"vega-embed\": \"https://cdn.jsdelivr.net/npm//vega-embed@6?noext\",\n",
       "    };\n",
       "\n",
       "    function maybeLoadScript(lib, version) {\n",
       "      var key = `${lib.replace(\"-\", \"\")}_version`;\n",
       "      return (VEGA_DEBUG[key] == version) ?\n",
       "        Promise.resolve(paths[lib]) :\n",
       "        new Promise(function(resolve, reject) {\n",
       "          var s = document.createElement('script');\n",
       "          document.getElementsByTagName(\"head\")[0].appendChild(s);\n",
       "          s.async = true;\n",
       "          s.onload = () => {\n",
       "            VEGA_DEBUG[key] = version;\n",
       "            return resolve(paths[lib]);\n",
       "          };\n",
       "          s.onerror = () => reject(`Error loading script: ${paths[lib]}`);\n",
       "          s.src = paths[lib];\n",
       "        });\n",
       "    }\n",
       "\n",
       "    function showError(err) {\n",
       "      outputDiv.innerHTML = `<div class=\"error\" style=\"color:red;\">${err}</div>`;\n",
       "      throw err;\n",
       "    }\n",
       "\n",
       "    function displayChart(vegaEmbed) {\n",
       "      vegaEmbed(outputDiv, spec, embedOpt)\n",
       "        .catch(err => showError(`Javascript Error: ${err.message}<br>This usually means there's a typo in your chart specification. See the javascript console for the full traceback.`));\n",
       "    }\n",
       "\n",
       "    if(typeof define === \"function\" && define.amd) {\n",
       "      requirejs.config({paths});\n",
       "      require([\"vega-embed\"], displayChart, err => showError(`Error loading script: ${err.message}`));\n",
       "    } else {\n",
       "      maybeLoadScript(\"vega\", \"5\")\n",
       "        .then(() => maybeLoadScript(\"vega-lite\", \"4.17.0\"))\n",
       "        .then(() => maybeLoadScript(\"vega-embed\", \"6\"))\n",
       "        .catch(showError)\n",
       "        .then(() => displayChart(vegaEmbed));\n",
       "    }\n",
       "  })({\"config\": {\"view\": {\"continuousWidth\": 400, \"continuousHeight\": 300, \"width\": 400}, \"axis\": {\"labelFontSize\": 11}}, \"title\": \"\", \"layer\": [{\"mark\": \"bar\", \"encoding\": {\"color\": {\"type\": \"quantitative\", \"field\": \"null_proportion\", \"legend\": {\"format\": \".0%\"}, \"scale\": {\"range\": \"heatmap\"}, \"title\": \"Missingness\"}, \"tooltip\": [{\"type\": \"nominal\", \"field\": \"column_name\", \"title\": \"Column\"}, {\"type\": \"quantitative\", \"field\": \"null_count\", \"format\": \",.0f\", \"title\": \"Count of nulls\"}, {\"type\": \"quantitative\", \"field\": \"null_proportion\", \"format\": \".2%\", \"title\": \"Percentage of nulls\"}, {\"type\": \"quantitative\", \"field\": \"total_record_count\", \"format\": \",.0f\", \"title\": \"Total record count\"}], \"x\": {\"type\": \"quantitative\", \"axis\": {\"format\": \"%\", \"title\": \"Percentage of nulls\"}, \"field\": \"null_proportion\"}, \"y\": {\"type\": \"nominal\", \"axis\": {\"title\": \"\"}, \"field\": \"column_name\", \"sort\": \"-x\"}}, \"title\": \"Missingness per column out of 108,424 records\"}], \"data\": {\"values\": [{\"null_proportion\": 0.0, \"null_count\": 0, \"total_record_count\": 108424, \"column_name\": \"source_dataset\"}, {\"null_proportion\": 0.0, \"null_count\": 0, \"total_record_count\": 108424, \"column_name\": \"id\"}, {\"null_proportion\": 0.0, \"null_count\": 0, \"total_record_count\": 108424, \"column_name\": \"first_name\"}, {\"null_proportion\": 0.0, \"null_count\": 0, \"total_record_count\": 108424, \"column_name\": \"middle_name\"}, {\"null_proportion\": 0.0, \"null_count\": 0, \"total_record_count\": 108424, \"column_name\": \"last_name\"}, {\"null_proportion\": 0.0, \"null_count\": 0, \"total_record_count\": 108424, \"column_name\": \"res_street_address\"}, {\"null_proportion\": 0.0, \"null_count\": 0, \"total_record_count\": 108424, \"column_name\": \"birth_year\"}, {\"null_proportion\": 0.0, \"null_count\": 0, \"total_record_count\": 108424, \"column_name\": \"zip_code\"}], \"name\": \"data-0e7bce5a1d2f132e282789d6ef7780fe\"}, \"$schema\": \"https://vega.github.io/schema/vega-lite/v4.8.1.json\"}, {\"mode\": \"vega-lite\"});\n",
       "</script>"
      ],
      "text/plain": [
       "<splink.charts.VegaliteNoValidate at 0x1d4265865e0>"
      ]
     },
     "execution_count": 6,
     "metadata": {},
     "output_type": "execute_result"
    }
   ],
   "source": [
    "import pandas as pd \n",
    "import altair as alt\n",
    "from splink.duckdb.duckdb_linker import DuckDBLinker\n",
    "alt.renderers.enable('default')\n",
    "\n",
    "df = pd.read_csv(\"data/clean_county.csv\")\n",
    "df_missing = pd.read_csv(\"data/county.txt\", sep=\" \")\n",
    "linker = DuckDBLinker(df)\n",
    "linker.missingness_chart()\n",
    "\n"
   ]
  }
 ],
 "metadata": {
  "kernelspec": {
   "display_name": "Python 3 (ipykernel)",
   "language": "python",
   "name": "python3"
  },
  "language_info": {
   "codemirror_mode": {
    "name": "ipython",
    "version": 3
   },
   "file_extension": ".py",
   "mimetype": "text/x-python",
   "name": "python",
   "nbconvert_exporter": "python",
   "pygments_lexer": "ipython3",
   "version": "3.9.12"
  }
 },
 "nbformat": 4,
 "nbformat_minor": 5
}
